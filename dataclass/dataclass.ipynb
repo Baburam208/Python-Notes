{
 "cells": [
  {
   "cell_type": "markdown",
   "id": "20073fdd-7589-4c22-a3b7-f73ecc7a0da3",
   "metadata": {},
   "source": [
    "# Dataclass Tutorial Notes"
   ]
  },
  {
   "cell_type": "markdown",
   "id": "3128b3d3-05c3-44b4-b30c-64af6623a9b9",
   "metadata": {},
   "source": [
    "Here are some common use cases of `dataclass` in python for AI and ML.\n",
    "\n",
    "* **Storing Model Configurations:** Machine learning models often have various hyperparameters that can be tweaked. Dataclasses provide a clean way to define these configurations, making it easier to experiment with different settings and track results. For instance, you could create a dataclass to store learning rate, batch size, and optimizer settings for a neural network.\n",
    "\n",
    "* **Data Preprocessing Pipelines:** Data preprocessing is a crucial step in machine learning. Dataclasses can be used to represent the various stages of a preprocessing pipeline, including data normalization, feature scaling, and transformation. This imporves code readability and maintainability.\n",
    "\n",
    "* **Experiment Logging:** When running machine learning experiments, it's essential to keep track of the data used, model configurations, and performance metrics. Dataclasses can be used to create structured logs that capture this information, simplifying analysis and comparison of different runs.\n",
    "\n",
    "* **Feature Engineering:** Feature engineering involves creating new features from existing data. Dataclasses can be used to represent these new features, making it easier to track their origin and impact on model performance.\n",
    "\n",
    "\n",
    "**NOTE:** <font color='green'>Dataclasses promote clean, concise, and well-organized code for data-centric tasks in AI and machine learning. This improves readability, maintainability, and helps you manage complex data structures effectively.</font>"
   ]
  },
  {
   "cell_type": "markdown",
   "id": "431a29fb-aaea-4ef4-8a60-a49c3d175297",
   "metadata": {},
   "source": [
    "## Example 1: Hyperparameter Management"
   ]
  },
  {
   "cell_type": "code",
   "execution_count": 52,
   "id": "0bd105d5-3a1b-4635-89a3-1e92f34313ef",
   "metadata": {},
   "outputs": [
    {
     "name": "stdout",
     "output_type": "stream",
     "text": [
      "Hyperparameters(learning_rate=0.001, batch_size=32, epochs=10)\n",
      "Hyperparameters(learning_rate=0.005, batch_size=8, epochs=100)\n",
      "====================\n",
      "0.001\n"
     ]
    }
   ],
   "source": [
    "from dataclasses import dataclass\n",
    "\n",
    "@dataclass\n",
    "class Hyperparameters:\n",
    "    learning_rate: float = 0.01\n",
    "    batch_size: int = 32\n",
    "    epochs: int = 100\n",
    "\n",
    "params = Hyperparameters(learning_rate=0.001,\n",
    "                         batch_size=32,\n",
    "                         epochs=10)\n",
    "params2 = Hyperparameters(learning_rate=0.005, \n",
    "                          batch_size=8)\n",
    "\n",
    "print(params)\n",
    "print(params2)\n",
    "print('='*20)\n",
    "print(params.learning_rate)"
   ]
  },
  {
   "cell_type": "markdown",
   "id": "61081768-afbf-48f1-8ba9-1f7d4f6da2c1",
   "metadata": {},
   "source": [
    "## Example 2: Model Configuration"
   ]
  },
  {
   "cell_type": "code",
   "execution_count": 4,
   "id": "a41e8c9a-c103-4e2d-88c4-488dd889a990",
   "metadata": {},
   "outputs": [
    {
     "name": "stdout",
     "output_type": "stream",
     "text": [
      "ModelConfig(input_dim=100, hidden_dim=50, output_dim=10, activation='relu')\n"
     ]
    }
   ],
   "source": [
    "@dataclass\n",
    "class ModelConfig:\n",
    "    input_dim: int\n",
    "    hidden_dim: int\n",
    "    output_dim: int\n",
    "    activation: str\n",
    "\n",
    "config = ModelConfig(input_dim=100,\n",
    "                     hidden_dim=50,\n",
    "                     output_dim=10, \n",
    "                     activation='relu')\n",
    "\n",
    "print(config)"
   ]
  },
  {
   "cell_type": "code",
   "execution_count": 53,
   "id": "4e0a6686-d334-4ccc-a0a0-1f885eb39b79",
   "metadata": {},
   "outputs": [],
   "source": [
    "from dataclasses import dataclass\n",
    "\n",
    "@dataclass\n",
    "class MLPConfig:\n",
    "  learning_rate: float = 0.01\n",
    "  batch_size: int = 32\n",
    "  epochs: int = 100\n",
    "  hidden_units: int = 64\n",
    "\n",
    "# Example usage\n",
    "config = MLPConfig(learning_rate=0.005, hidden_units=128)\n",
    "\n",
    "@dataclass\n",
    "class ExperimentLog:\n",
    "  model_name: str\n",
    "  config: MLPConfig\n",
    "  training_time: float\n",
    "  accuracy: float\n",
    "\n",
    "# Example usage\n",
    "log = ExperimentLog(\"MLP\", config, 120.5, 0.87)\n",
    "# You can then store or visualize this log information"
   ]
  },
  {
   "cell_type": "code",
   "execution_count": 55,
   "id": "4cf07e8d-86eb-4927-a65e-17a1a18a7d24",
   "metadata": {},
   "outputs": [],
   "source": [
    "import json\n",
    "\n",
    "# ... your experiment code ...\n",
    "\n",
    "# After experiment run\n",
    "log = ExperimentLog(model_name=\"MLP\", config=config, training_time=1100.0, accuracy=0.90)\n",
    "\n",
    "# Convert config dataclass to dictionary\n",
    "config_dict = log.config.__dict__\n",
    "\n",
    "# print(config_dict)\n",
    "\n",
    "# Create the serializable dictionary for JSON\n",
    "log_dict = {\n",
    "    \"model_name\": log.model_name,\n",
    "    \"config\": config_dict,\n",
    "    \"training_time\": log.training_time,\n",
    "    \"accuracy\": log.accuracy\n",
    "}\n",
    "\n",
    "with open(\"experiment_log.json\", \"a\") as f:\n",
    "  json.dump(log_dict, f)  # Convert dataclass to dictionary for json\n"
   ]
  },
  {
   "cell_type": "code",
   "execution_count": 40,
   "id": "ed11a810-c321-4b4a-99e6-84f6564fb682",
   "metadata": {},
   "outputs": [
    {
     "name": "stdout",
     "output_type": "stream",
     "text": [
      "Point(x=3, y=4)\n",
      "(3, 4)\n",
      "(3, 4)\n"
     ]
    }
   ],
   "source": [
    "class Point:\n",
    "    def __init__(self, x, y):\n",
    "        self.x = x\n",
    "        self.y = y\n",
    "    \n",
    "    def __repr__(self):\n",
    "        return f\"Point(x={self.x}, y={self.y})\"\n",
    "    \n",
    "    def __str__(self):\n",
    "        return f\"({self.x}, {self.y})\"\n",
    "\n",
    "# Creating an instance of Point\n",
    "p = Point(3, 4)\n",
    "\n",
    "# Using __repr__()\n",
    "print(repr(p))  # Output: Point(x=3, y=4)\n",
    "\n",
    "# Using __str__()\n",
    "print(str(p))  # Output: (3, 4)\n",
    "\n",
    "# Without explicitly calling repr() or str()\n",
    "print(p)  # Output: (3, 4) -> __str__() is called\n"
   ]
  },
  {
   "cell_type": "code",
   "execution_count": 41,
   "id": "cbc75ce5-ad7f-489e-9be3-ebdbc5820d73",
   "metadata": {},
   "outputs": [
    {
     "name": "stdout",
     "output_type": "stream",
     "text": [
      "'abc'\n"
     ]
    }
   ],
   "source": [
    "item = 'abc'\n",
    "print(f'{item!r}')"
   ]
  },
  {
   "cell_type": "markdown",
   "id": "dac949bf-6301-4992-a40d-ad75df9c7b74",
   "metadata": {},
   "source": [
    "## What are Python Data Classes?"
   ]
  },
  {
   "cell_type": "markdown",
   "id": "c9200e78-9f7a-45bb-a9f8-dab9e2c55d73",
   "metadata": {},
   "source": [
    "Python Data Classes are a powerful feature introduced in Python 3.7, designed to simplify the creation of classes that primarily store data. \n",
    "\n",
    "They offer an elegant and concise way to define data structures while reducing boilerplate code, making your code more readable and maintainable."
   ]
  },
  {
   "cell_type": "markdown",
   "id": "d3899ca3-05f0-491f-b3b4-836557caa158",
   "metadata": {},
   "source": [
    "At their core, Python Data Classes are regular classes with added functionality provided by the @dataclass decorator from the Data Classes module. This decorator automatically generates special methods that are commonly used when defining data-handling classes, such as `__init__(), __repr__(), __eq__(), and __hash__()`.\n",
    "\n",
    "This automation reduces the need for manual method implementation, allowing developers to focus on the essential attributes and types of their data."
   ]
  },
  {
   "cell_type": "markdown",
   "id": "5ebbec86-3bde-4c7b-9e07-9f798b78a7ed",
   "metadata": {},
   "source": [
    "## Benefits of Python Data Classes"
   ]
  },
  {
   "cell_type": "markdown",
   "id": "3cf4aade-8d96-4297-8743-56fcfa0e9759",
   "metadata": {},
   "source": [
    "* Conciseness: Python Data Classes significaltly reduce boilerplate code. With a simple decorator, you can define a class with attributes, type hints, and default values in just a few lines.\n",
    "\n",
    "* Immutability: Data Classes are immutable by default, meaning their attributes cannot be changed after initialization. This immutability is beneficial when dealing with data that should remain constant, preventing accidental modifications and increasing code reliability.\n",
    "\n",
    "* Readability: Data Classes automatically generate a human-readable __repr__() method, making it easier to inspect and debug instances.\n",
    "\n",
    "* Structural equality: Data Classes provide structural equality out of the box. Instances with the same attributes and values are considered equal.\n",
    "\n",
    "* Built-in methods: Python Data Classes generate essential special methods, such as __init__(), __repr__(), and __eq__(), reducing the need for manual method definition.\n",
    "\n",
    "* Type hinting: Python's type hinting system integrates seamlessly with Data Classes.\n",
    "\n",
    "* Customisation: Data Classes come with convenient defaults, you can customize their behaviour by adding additional decorators or explicitly defining methods."
   ]
  },
  {
   "cell_type": "markdown",
   "id": "4966cbc2-8254-4156-b0dc-cd82f090a786",
   "metadata": {},
   "source": [
    "## Example:"
   ]
  },
  {
   "cell_type": "code",
   "execution_count": 42,
   "id": "8c9843e8-e983-4f33-bc12-9b9daf745755",
   "metadata": {},
   "outputs": [],
   "source": [
    "from dataclasses import dataclass\n",
    "\n",
    "@dataclass\n",
    "class MyClass:\n",
    "    attribute1: int\n",
    "    attribute2: str\n",
    "\n",
    "obj = MyClass(42, \"Hello, Data Class!\")"
   ]
  },
  {
   "cell_type": "code",
   "execution_count": 43,
   "id": "65d00edf-9e6c-4834-8a04-cbd0884565bf",
   "metadata": {},
   "outputs": [
    {
     "name": "stdout",
     "output_type": "stream",
     "text": [
      "42\n",
      "Hello, Data Class!\n"
     ]
    }
   ],
   "source": [
    "## Accessing Attributes\n",
    "print(obj.attribute1)\n",
    "print(obj.attribute2)"
   ]
  },
  {
   "cell_type": "markdown",
   "id": "e7634eee-fb0f-4542-811a-3eb4c4ebc49b",
   "metadata": {},
   "source": [
    "### Immutability\n",
    "\n",
    "Immutability in Python Classes ensures that once an instance is created, its attribute values cannot be changed.\n"
   ]
  },
  {
   "cell_type": "code",
   "execution_count": 56,
   "id": "1b79bd71-b727-4c4c-a029-0db5cdf4eb6d",
   "metadata": {},
   "outputs": [],
   "source": [
    "from dataclasses import dataclass\n",
    "\n",
    "@dataclass(frozen=True)\n",
    "class Point:\n",
    "    x: int\n",
    "    y: int\n",
    "\n",
    "point = Point(2, 3)"
   ]
  },
  {
   "cell_type": "code",
   "execution_count": 46,
   "id": "6a56b8de-c6a5-4b21-874c-94346be3e26c",
   "metadata": {},
   "outputs": [
    {
     "ename": "FrozenInstanceError",
     "evalue": "cannot assign to field 'x'",
     "output_type": "error",
     "traceback": [
      "\u001b[1;31m---------------------------------------------------------------------------\u001b[0m",
      "\u001b[1;31mFrozenInstanceError\u001b[0m                       Traceback (most recent call last)",
      "Cell \u001b[1;32mIn[46], line 1\u001b[0m\n\u001b[1;32m----> 1\u001b[0m \u001b[43mpoint\u001b[49m\u001b[38;5;241;43m.\u001b[39;49m\u001b[43mx\u001b[49m \u001b[38;5;241m=\u001b[39m \u001b[38;5;241m5\u001b[39m  \u001b[38;5;66;03m# This will raise an error\u001b[39;00m\n",
      "File \u001b[1;32m<string>:4\u001b[0m, in \u001b[0;36m__setattr__\u001b[1;34m(self, name, value)\u001b[0m\n",
      "\u001b[1;31mFrozenInstanceError\u001b[0m: cannot assign to field 'x'"
     ]
    }
   ],
   "source": [
    "point.x = 5  # This will raise an error"
   ]
  },
  {
   "cell_type": "code",
   "execution_count": 57,
   "id": "674a0edd-f8e9-4d1b-b0f6-c260ff809176",
   "metadata": {},
   "outputs": [
    {
     "name": "stdout",
     "output_type": "stream",
     "text": [
      "cannot assign to field 'x'\n"
     ]
    }
   ],
   "source": [
    "try:\n",
    "    point.x = 5\n",
    "except Exception as e:\n",
    "    print(e)"
   ]
  },
  {
   "cell_type": "markdown",
   "id": "bd42b0a1-b296-4838-8b84-d2ce854f45e5",
   "metadata": {},
   "source": [
    "### Structural Equality"
   ]
  },
  {
   "cell_type": "code",
   "execution_count": 58,
   "id": "8ea53317-7b84-4819-970e-4919656f3e2b",
   "metadata": {},
   "outputs": [
    {
     "name": "stdout",
     "output_type": "stream",
     "text": [
      "True\n"
     ]
    }
   ],
   "source": [
    "obj1 = MyClass(42, \"Hello, Data Class!\")\n",
    "obj2 = MyClass(42, \"Hello, Data Class!\")\n",
    "\n",
    "print(obj1 == obj2) "
   ]
  },
  {
   "cell_type": "markdown",
   "id": "a3a28991-df53-459b-a128-59a5175cb893",
   "metadata": {},
   "source": [
    "### Serialisation\n",
    "Data Classes are ideal for serialising and deserialising data. You can use the json module to convert data class instances to JSON and vice versa."
   ]
  },
  {
   "cell_type": "code",
   "execution_count": 51,
   "id": "50022bcc-f566-4e8c-929c-db3b3c3046b2",
   "metadata": {},
   "outputs": [
    {
     "name": "stdout",
     "output_type": "stream",
     "text": [
      "{\"attribute1\": 42, \"attribute2\": \"Hello, Data Class!\"}\n",
      "MyClass(attribute1=42, attribute2='Hello, Data Class!')\n"
     ]
    }
   ],
   "source": [
    "import json\n",
    "\n",
    "# Serialise to JSON\n",
    "data = json.dumps(obj.__dict__)\n",
    "print(data)\n",
    "\n",
    "# Deserialise from JSON\n",
    "new_obj = MyClass(**json.loads(data))\n",
    "print(new_obj)"
   ]
  },
  {
   "cell_type": "markdown",
   "id": "2c9cfa68-2192-401f-a309-56d30d725095",
   "metadata": {},
   "source": [
    "## When to use Python Data Classes -- and when not to use them"
   ]
  },
  {
   "cell_type": "markdown",
   "id": "4e59a3fa-7fe8-4e7d-8f22-4778badb344e",
   "metadata": {},
   "source": [
    "Python Data Classes simplify the creation of classes and are primarily used to store data. "
   ]
  },
  {
   "cell_type": "markdown",
   "id": "13cb1a67-528c-4f1d-ac8f-ab9dca2a6d6e",
   "metadata": {},
   "source": [
    "## Conclusion"
   ]
  },
  {
   "cell_type": "markdown",
   "id": "ff282991-e4c1-4230-b27b-b783b85cfdd2",
   "metadata": {},
   "source": [
    "Python Data Classes are a valuable addition to the Python language that simplifies the creation of classes for storing data. Their conciseness, immutability, readability, and generated methods make them an excellent choice for various use cases, such as configuration management, data transfer objects, and more. By using Python Data Classes, you can enhance the efficiency and maintainability of your code, ultimately making your development journey smoother and more enjoyable. "
   ]
  },
  {
   "cell_type": "code",
   "execution_count": null,
   "id": "e5ddf84a-ccd9-440e-9ebb-b5568bc3dac6",
   "metadata": {},
   "outputs": [],
   "source": []
  }
 ],
 "metadata": {
  "kernelspec": {
   "display_name": "Python 3 (ipykernel)",
   "language": "python",
   "name": "python3"
  },
  "language_info": {
   "codemirror_mode": {
    "name": "ipython",
    "version": 3
   },
   "file_extension": ".py",
   "mimetype": "text/x-python",
   "name": "python",
   "nbconvert_exporter": "python",
   "pygments_lexer": "ipython3",
   "version": "3.10.0"
  }
 },
 "nbformat": 4,
 "nbformat_minor": 5
}
